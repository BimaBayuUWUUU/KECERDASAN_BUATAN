{
  "nbformat": 4,
  "nbformat_minor": 0,
  "metadata": {
    "colab": {
      "provenance": [],
      "collapsed_sections": [],
      "authorship_tag": "ABX9TyMlpMFGF2xNc2nXievg8MGJ",
      "include_colab_link": true
    },
    "kernelspec": {
      "name": "python3",
      "display_name": "Python 3"
    },
    "language_info": {
      "name": "python"
    }
  },
  "cells": [
    {
      "cell_type": "markdown",
      "metadata": {
        "id": "view-in-github",
        "colab_type": "text"
      },
      "source": [
        "<a href=\"https://colab.research.google.com/github/BimaBayuUWUUU/KECERDASAN_BUATAN/blob/main/JobsheetUninformed.ipynb\" target=\"_parent\"><img src=\"https://colab.research.google.com/assets/colab-badge.svg\" alt=\"Open In Colab\"/></a>"
      ]
    },
    {
      "cell_type": "markdown",
      "source": [
        "BIMA BAYU SAPUTRA\n",
        "|| 03 || 2141720019\n",
        "|| TI-2C\n",
        "|| Jobsheet 1 Uninformed"
      ],
      "metadata": {
        "id": "Cs5VB4JHD22L"
      }
    },
    {
      "cell_type": "markdown",
      "source": [
        "Praktikum 1"
      ],
      "metadata": {
        "id": "ClYGycNxD56S"
      }
    },
    {
      "cell_type": "code",
      "execution_count": null,
      "metadata": {
        "id": "RTLiTv1p3ZYF",
        "colab": {
          "base_uri": "https://localhost:8080/"
        },
        "outputId": "d49f3d21-d89f-4235-b89d-f350aeb1d9da"
      },
      "outputs": [
        {
          "output_type": "stream",
          "name": "stdout",
          "text": [
            "Hasil penelusuran graf menggunakan BFS: \n",
            "A B C D E F H G "
          ]
        }
      ],
      "source": [
        "graph = {\n",
        "    'A' : ['B','C'],\n",
        "    'B' : ['D', 'E'],\n",
        "    'C' : ['F'],\n",
        "    'D' : [],\n",
        "    'E' : ['F'],\n",
        "    'F' : ['H'],\n",
        "    'G' : ['H'],\n",
        "    'H' : ['G']\n",
        "}\n",
        "visited = [] # List to keep track of visited nodes.\n",
        "queue = []     #Initialize a queue\n",
        " \n",
        "def bfs(visited, graph, node):\n",
        "    visited.append(node)\n",
        "    queue.append(node)\n",
        " \n",
        "    while queue:\n",
        "        s = queue.pop(0) \n",
        "        print (s, end = \" \") \n",
        " \n",
        "        for neighbour in graph[s]:\n",
        "            if neighbour not in visited:\n",
        "                visited.append(neighbour)\n",
        "                queue.append(neighbour)\n",
        " \n",
        "print(\"Hasil penelusuran graf menggunakan BFS: \")\n",
        "bfs(visited, graph, 'A')"
      ]
    },
    {
      "cell_type": "markdown",
      "source": [
        "Pertanyaan No 2"
      ],
      "metadata": {
        "id": "43wn8JeBW-KK"
      }
    },
    {
      "cell_type": "code",
      "source": [
        "graph = {\n",
        "    'A' : ['B','C'],\n",
        "    'B' : ['D', 'E'],\n",
        "    'C' : ['F'],\n",
        "    'D' : [],\n",
        "    'E' : ['F', 'G'],\n",
        "    'F' : ['H'],\n",
        "    'G' : ['H'],\n",
        "    'H' : ['G']\n",
        "}\n",
        "visited = [] # List to keep track of visited nodes.\n",
        "queue = []     #Initialize a queue\n",
        " \n",
        "def bfs(visited, graph, node):\n",
        "    visited.append(node)\n",
        "    queue.append(node)\n",
        " \n",
        "    while queue:\n",
        "        s = queue.pop(0) \n",
        "        print (s, end = \" \") \n",
        " \n",
        "        for neighbour in graph[s]:\n",
        "            if neighbour not in visited:\n",
        "                visited.append(neighbour)\n",
        "                queue.append(neighbour)\n",
        " \n",
        "print(\"Hasil penelusuran graf menggunakan BFS: \")\n",
        "bfs(visited, graph, 'A')"
      ],
      "metadata": {
        "colab": {
          "base_uri": "https://localhost:8080/"
        },
        "id": "ChJTh1xPW9cY",
        "outputId": "aa6f7470-9565-427e-862a-e3f11bab19d2"
      },
      "execution_count": null,
      "outputs": [
        {
          "output_type": "stream",
          "name": "stdout",
          "text": [
            "Hasil penelusuran graf menggunakan BFS: \n",
            "A B C D E F G H "
          ]
        }
      ]
    },
    {
      "cell_type": "markdown",
      "source": [
        "Pertanyaan No 3"
      ],
      "metadata": {
        "id": "nMzZo2a8Vdz0"
      }
    },
    {
      "cell_type": "code",
      "source": [
        "graph = {\n",
        "    'A' : ['B','C'],\n",
        "    'B' : ['A','D', 'E'],\n",
        "    'C' : ['F','A'],\n",
        "    'D' : ['B'],\n",
        "    'E' : ['B','F'],\n",
        "    'F' : ['H','C','E'],\n",
        "    'G' : ['H'],\n",
        "    'H' : ['G','H']\n",
        "}\n",
        "visited = [] # List to keep track of visited nodes.\n",
        "queue = []     #Initialize a queue\n",
        " \n",
        "def bfs(visited, graph, node):\n",
        "    visited.append(node)\n",
        "    queue.append(node)\n",
        " \n",
        "    while queue:\n",
        "        s = queue.pop(0) \n",
        "        print (s, end = \" \") \n",
        " \n",
        "        for neighbour in graph[s]:\n",
        "            if neighbour not in visited:\n",
        "                visited.append(neighbour)\n",
        "                queue.append(neighbour)\n",
        " \n",
        "print(\"Hasil penelusuran graf menggunakan BFS: \")\n",
        "bfs(visited, graph, 'A')"
      ],
      "metadata": {
        "id": "322izyyMVTBa",
        "colab": {
          "base_uri": "https://localhost:8080/"
        },
        "outputId": "62ee0946-c08b-4d1c-a5f9-45de216708c9"
      },
      "execution_count": null,
      "outputs": [
        {
          "output_type": "stream",
          "name": "stdout",
          "text": [
            "Hasil penelusuran graf menggunakan BFS: \n",
            "A B C D E F H G "
          ]
        }
      ]
    },
    {
      "cell_type": "markdown",
      "source": [
        "Praktikum 2"
      ],
      "metadata": {
        "id": "UXop9Eh8D1Aa"
      }
    },
    {
      "cell_type": "code",
      "execution_count": null,
      "metadata": {
        "colab": {
          "base_uri": "https://localhost:8080/"
        },
        "outputId": "9daecb5d-1d03-4fa9-fac3-850e95cb0831",
        "id": "zkfWLmqiBc_A"
      },
      "outputs": [
        {
          "output_type": "stream",
          "name": "stdout",
          "text": [
            "Hasil penelusuran graf menggunakan DFS: \n",
            "A\n",
            "B\n",
            "D\n",
            "E\n",
            "F\n",
            "H\n",
            "G\n",
            "C\n"
          ]
        }
      ],
      "source": [
        "graph = {\n",
        "    'A' : ['B','C'],\n",
        "    'B' : ['D', 'E'],\n",
        "    'C' : ['F'],\n",
        "    'D' : [],\n",
        "    'E' : ['F'],\n",
        "    'F' : ['H'],\n",
        "    'G' : ['H'],\n",
        "    'H' : ['G']\n",
        "}\n",
        "visited = set()\n",
        " \n",
        "def dfs(visited, graph, node):\n",
        "    if node not in visited:\n",
        "      print (node)\n",
        "      visited.add(node)\n",
        "      for neighbour in graph[node]:\n",
        "        dfs(visited, graph, neighbour)\n",
        " \n",
        "print(\"Hasil penelusuran graf menggunakan DFS: \")\n",
        "dfs(visited, graph, 'A')"
      ]
    },
    {
      "cell_type": "markdown",
      "source": [
        "Pertanyaan No 2"
      ],
      "metadata": {
        "id": "GmclWPwHdSad"
      }
    },
    {
      "cell_type": "code",
      "source": [
        "graph = {\n",
        "    'A' : ['B','C'],\n",
        "    'B' : ['C'],\n",
        "    'C' : ['F'],\n",
        "    'D' : [],\n",
        "    'E' : ['F'],\n",
        "    'F' : ['H'],\n",
        "    'G' : ['H'],\n",
        "    'H' : ['G']\n",
        "}\n",
        "visited = set()\n",
        " \n",
        "def dfs(visited, graph, node):\n",
        "    if node not in visited:\n",
        "      print (node)\n",
        "      visited.add(node)\n",
        "      for neighbour in graph[node]:\n",
        "        dfs(visited, graph, neighbour)\n",
        " \n",
        "print(\"Hasil penelusuran graf menggunakan DFS: \")\n",
        "dfs(visited, graph, 'A')"
      ],
      "metadata": {
        "id": "DupOE-ovDwfi",
        "colab": {
          "base_uri": "https://localhost:8080/"
        },
        "outputId": "b95e7286-66eb-4ae4-eb88-d03764696b0f"
      },
      "execution_count": null,
      "outputs": [
        {
          "output_type": "stream",
          "name": "stdout",
          "text": [
            "Hasil penelusuran graf menggunakan DFS: \n",
            "A\n",
            "B\n",
            "C\n",
            "F\n",
            "H\n",
            "G\n"
          ]
        }
      ]
    },
    {
      "cell_type": "markdown",
      "source": [
        "Pertanyaan No 3"
      ],
      "metadata": {
        "id": "_YvCZfAbe-QZ"
      }
    },
    {
      "cell_type": "code",
      "source": [
        "graph = {\n",
        "    'A' : ['B','C'],\n",
        "    'B' : ['A','D', 'E'],\n",
        "    'C' : ['F','A'],\n",
        "    'D' : ['B'],\n",
        "    'E' : ['B','F'],\n",
        "    'F' : ['H','C','E'],\n",
        "    'G' : ['H'],\n",
        "    'H' : ['G','H']\n",
        "}\n",
        "visited = set()\n",
        " \n",
        "def dfs(visited, graph, node):\n",
        "    if node not in visited:\n",
        "      print (node)\n",
        "      visited.add(node)\n",
        "      for neighbour in graph[node]:\n",
        "        dfs(visited, graph, neighbour)\n",
        " \n",
        "print(\"Hasil penelusuran graf menggunakan DFS: \")\n",
        "dfs(visited, graph, 'A')"
      ],
      "metadata": {
        "colab": {
          "base_uri": "https://localhost:8080/"
        },
        "id": "W6r0RJy2fBTO",
        "outputId": "2f0999bf-64c8-40b9-8dee-f94c3a64e08f"
      },
      "execution_count": null,
      "outputs": [
        {
          "output_type": "stream",
          "name": "stdout",
          "text": [
            "Hasil penelusuran graf menggunakan DFS: \n",
            "A\n",
            "B\n",
            "D\n",
            "E\n",
            "F\n",
            "H\n",
            "G\n",
            "C\n"
          ]
        }
      ]
    },
    {
      "cell_type": "markdown",
      "source": [
        "Latihan Praktikum 1 BFS"
      ],
      "metadata": {
        "id": "Lfig43W4DyQN"
      }
    },
    {
      "cell_type": "code",
      "execution_count": null,
      "metadata": {
        "colab": {
          "base_uri": "https://localhost:8080/"
        },
        "outputId": "f769df28-504a-47c5-b6c7-4f7e98d8fcd8",
        "id": "usRqblo-DxWD"
      },
      "outputs": [
        {
          "output_type": "stream",
          "name": "stdout",
          "text": [
            "Hasil penelusuran graf menggunakan BFS: \n",
            "A B E F G C H D "
          ]
        }
      ],
      "source": [
        "graph = {\n",
        "    'A' : ['B','E','F'],\n",
        "    'B' : ['A','F', 'G'],\n",
        "    'E' : ['A','F'],\n",
        "    'F' : ['B','E'],\n",
        "    'G' : ['B','C','H'],\n",
        "    'C' : ['G','D'],\n",
        "    'H' : ['D','G'],\n",
        "    'D' : ['C','H']\n",
        "}\n",
        "visited = [] # List to keep track of visited nodes.\n",
        "queue = []     #Initialize a queue\n",
        " \n",
        "def bfs(visited, graph, node):\n",
        "    visited.append(node)\n",
        "    queue.append(node)\n",
        " \n",
        "    while queue:\n",
        "        s = queue.pop(0) \n",
        "        print (s, end = \" \") \n",
        " \n",
        "        for neighbour in graph[s]:\n",
        "            if neighbour not in visited:\n",
        "                visited.append(neighbour)\n",
        "                queue.append(neighbour)\n",
        " \n",
        "print(\"Hasil penelusuran graf menggunakan BFS: \")\n",
        "bfs(visited, graph, 'A')"
      ]
    },
    {
      "cell_type": "markdown",
      "source": [
        "Latihan Praktikum 1 DFS"
      ],
      "metadata": {
        "id": "_4hRhOY3cbpp"
      }
    },
    {
      "cell_type": "code",
      "source": [
        "graph = {\n",
        "    'A' : ['B','E','F'],\n",
        "    'B' : ['A','F', 'G'],\n",
        "    'E' : ['A','F'],\n",
        "    'F' : ['B','E'],\n",
        "    'G' : ['B','C','H'],\n",
        "    'C' : ['G','D'],\n",
        "    'H' : ['D','G'],\n",
        "    'D' : ['C','H']\n",
        "}\n",
        "visited = set()\n",
        " \n",
        "def dfs(visited, graph, node):\n",
        "    if node not in visited:\n",
        "      print (node)\n",
        "      visited.add(node)\n",
        "      for neighbour in graph[node]:\n",
        "        dfs(visited, graph, neighbour)\n",
        " \n",
        "print(\"Hasil penelusuran graf menggunakan DFS: \")\n",
        "dfs(visited, graph, 'A')"
      ],
      "metadata": {
        "colab": {
          "base_uri": "https://localhost:8080/"
        },
        "id": "VST-Gf8ccgS-",
        "outputId": "5a989587-8bdd-443f-a606-01935cffe7a9"
      },
      "execution_count": null,
      "outputs": [
        {
          "output_type": "stream",
          "name": "stdout",
          "text": [
            "Hasil penelusuran graf menggunakan DFS: \n",
            "A\n",
            "B\n",
            "F\n",
            "E\n",
            "G\n",
            "C\n",
            "D\n",
            "H\n"
          ]
        }
      ]
    },
    {
      "cell_type": "markdown",
      "source": [
        "Latihan Praktikum 2 BFS"
      ],
      "metadata": {
        "id": "M0nRwWDDKSyw"
      }
    },
    {
      "cell_type": "code",
      "execution_count": null,
      "metadata": {
        "colab": {
          "base_uri": "https://localhost:8080/"
        },
        "outputId": "81548b06-eb46-4c84-9ae4-caae0723fd69",
        "id": "dJT0Rt2XKdDD"
      },
      "outputs": [
        {
          "output_type": "stream",
          "name": "stdout",
          "text": [
            "Hasil penelusuran graf menggunakan BFS: \n",
            "A B F G E C D "
          ]
        }
      ],
      "source": [
        "graph = {\n",
        "    'A' : ['B'],\n",
        "    'B' : ['A','F', 'G'],\n",
        "    'E' : ['F'],\n",
        "    'F' : ['B','E'],\n",
        "    'G' : ['B','C'],\n",
        "    'C' : ['G','D'],    \n",
        "    'D' : ['C','H'],\n",
        "    'H' : ['D']\n",
        "}\n",
        "visited = [] # List to keep track of visited nodes.\n",
        "queue = []     #Initialize a queue\n",
        " \n",
        "def bfs(visited, graph, node):\n",
        "    visited.append(node)\n",
        "    queue.append(node)\n",
        " \n",
        "    while queue:\n",
        "        s = queue.pop(0) \n",
        "        print (s, end = \" \") \n",
        "        if s == 'D':\n",
        "          break\n",
        "        for neighbour in graph[s]:\n",
        "            if neighbour not in visited:\n",
        "                visited.append(neighbour)\n",
        "                queue.append(neighbour)\n",
        " \n",
        "print(\"Hasil penelusuran graf menggunakan BFS: \")\n",
        "bfs(visited, graph, 'A')"
      ]
    },
    {
      "cell_type": "markdown",
      "source": [
        "Latihan Praktikum 2 DFS"
      ],
      "metadata": {
        "id": "FdJ3-N50LVHw"
      }
    },
    {
      "cell_type": "code",
      "execution_count": null,
      "metadata": {
        "colab": {
          "base_uri": "https://localhost:8080/"
        },
        "outputId": "dfa8dbce-781b-49f0-c6bb-c2316edbd430",
        "id": "SRSbvu_KLbuo"
      },
      "outputs": [
        {
          "output_type": "stream",
          "name": "stdout",
          "text": [
            "Hasil penelusuran graf menggunakan DFS: \n",
            "A\n",
            "B\n",
            "F\n",
            "E\n",
            "G\n",
            "C\n",
            "D\n"
          ]
        }
      ],
      "source": [
        "graph = {\n",
        "    'A' : ['B'],\n",
        "    'B' : ['A','F', 'G'],\n",
        "    'E' : ['F'],\n",
        "    'F' : ['B','E'],\n",
        "    'G' : ['B','C'],\n",
        "    'C' : ['G','D'],    \n",
        "    'D' : ['C','H'],\n",
        "    'H' : ['D']\n",
        "}\n",
        "visited = set()\n",
        " \n",
        "def dfs(visited, graph, node):\n",
        "    if node not in visited:\n",
        "      print (node)\n",
        "      if node == 'D':\n",
        "        return\n",
        "      visited.add(node)\n",
        "      for neighbour in graph[node]:\n",
        "        dfs(visited, graph, neighbour)\n",
        " \n",
        "print(\"Hasil penelusuran graf menggunakan DFS: \")\n",
        "dfs(visited, graph, 'A')"
      ]
    }
  ]
}